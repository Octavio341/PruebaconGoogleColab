{
  "cells": [
    {
      "cell_type": "code",
      "source": [],
      "metadata": {
        "id": "ZuyLDKx-ceue"
      },
      "id": "ZuyLDKx-ceue",
      "execution_count": null,
      "outputs": []
    },
    {
      "cell_type": "markdown",
      "source": [
        "\n",
        "dfdf\n",
        "```\n",
        "# E`sto tiene formato de código`\n",
        "```\n",
        "\n",
        "# Sección nuevafdfdfdfffffffffffffff"
      ],
      "metadata": {
        "id": "xTIHHywjcfXO"
      },
      "id": "xTIHHywjcfXO"
    },
    {
      "cell_type": "markdown",
      "source": [
        "# Sección nueva"
      ],
      "metadata": {
        "id": "Gn3Dt3lBcf0W"
      },
      "id": "Gn3Dt3lBcf0W"
    },
    {
      "cell_type": "markdown",
      "source": [
        "# Sección nueva"
      ],
      "metadata": {
        "id": "EwRbyfQWcgNu"
      },
      "id": "EwRbyfQWcgNu"
    }
  ],
  "metadata": {
    "language_info": {
      "name": "python"
    },
    "colab": {
      "provenance": [],
      "toc_visible": true
    }
  },
  "nbformat": 4,
  "nbformat_minor": 5
}