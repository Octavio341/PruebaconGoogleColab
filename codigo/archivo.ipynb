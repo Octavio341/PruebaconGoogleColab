{
  "cells": [
    {
      "cell_type": "code",
      "source": [
        "print(\"esto esto en un archivo\")"
      ],
      "metadata": {
        "id": "ZuyLDKx-ceue",
        "colab": {
          "base_uri": "https://localhost:8080/"
        },
        "outputId": "f127bc93-74fa-4c57-8d15-9ca6e7d31db3"
      },
      "id": "ZuyLDKx-ceue",
      "execution_count": 1,
      "outputs": [
        {
          "output_type": "stream",
          "name": "stdout",
          "text": [
            "esto esto en un archivo\n"
          ]
        }
      ]
    }
  ],
  "metadata": {
    "language_info": {
      "name": "python"
    },
    "colab": {
      "provenance": [],
      "toc_visible": true
    },
    "kernelspec": {
      "name": "python3",
      "display_name": "Python 3"
    }
  },
  "nbformat": 4,
  "nbformat_minor": 5
}