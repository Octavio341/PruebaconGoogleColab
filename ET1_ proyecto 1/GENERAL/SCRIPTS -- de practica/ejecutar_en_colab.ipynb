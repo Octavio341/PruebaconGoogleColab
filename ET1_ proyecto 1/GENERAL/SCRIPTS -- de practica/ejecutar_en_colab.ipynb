{
 "cells": [
  {
   "cell_type": "code",
   "execution_count": 7,
   "id": "95c27ec4",
   "metadata": {},
   "outputs": [
    {
     "name": "stdout",
     "output_type": "stream",
     "text": [
      "âœ… Â¡El script secundario se ejecutÃ³ correctamente!\n"
     ]
    }
   ],
   "source": [
    "import subprocess\n",
    "\n",
    "process = subprocess.Popen(['python', '-u', 'interfaz.py'], stdout=subprocess.PIPE, stderr=subprocess.STDOUT, text=True)\n",
    "\n",
    "while True:\n",
    "    output = process.stdout.readline()\n",
    "    if output == '' and process.poll() is not None:\n",
    "        break\n",
    "    if output:\n",
    "        print(output.strip())\n"
   ]
  },
  {
   "cell_type": "markdown",
   "id": "31af612e",
   "metadata": {},
   "source": []
  }
 ],
 "metadata": {
  "kernelspec": {
   "display_name": "Python 3",
   "language": "python",
   "name": "python3"
  },
  "language_info": {
   "codemirror_mode": {
    "name": "ipython",
    "version": 3
   },
   "file_extension": ".py",
   "mimetype": "text/x-python",
   "name": "python",
   "nbconvert_exporter": "python",
   "pygments_lexer": "ipython3",
   "version": "3.11.9"
  }
 },
 "nbformat": 4,
 "nbformat_minor": 5
}
